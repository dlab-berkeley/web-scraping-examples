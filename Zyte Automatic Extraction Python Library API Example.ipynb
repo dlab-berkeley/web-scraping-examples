{
 "cells": [
  {
   "cell_type": "code",
   "execution_count": null,
   "metadata": {},
   "outputs": [],
   "source": [
    "!pip install zyte-autoextract 2>&1 > install.log || tail install.log"
   ]
  },
  {
   "cell_type": "markdown",
   "metadata": {},
   "source": [
    "1. Obtain the Zyte Automatic Extraction API key: https://app.zyte.com/o/103115/automatic-extraction/setup\n",
    "2. Run the code in the next cell below to set the `APIKEY` variable\n",
    "3. Copy & Paste the API key into the text box"
   ]
  },
  {
   "cell_type": "code",
   "execution_count": null,
   "metadata": {},
   "outputs": [],
   "source": [
    "# get key from environment variable if it is set\n",
    "# otherwise, prompt the user to copy & paste it in\n",
    "import getpass, os\n",
    "ZYTE_AUTOEXTRACT_KEY=os.environ.get('ZYTE_AUTOEXTRACT_KEY')\n",
    "if not ZYTE_AUTOEXTRACT_KEY:\n",
    "    ZYTE_AUTOEXTRACT_KEY=getpass.getpass()\n",
    "os.environ['ZYTE_AUTOEXTRACT_KEY']=ZYTE_AUTOEXTRACT_KEY"
   ]
  },
  {
   "cell_type": "markdown",
   "metadata": {},
   "source": [
    "Read the API documentation here:\n",
    "https://docs.zyte.com/automatic-extraction-get-started.html\n",
    "\n",
    "And consider installing and using the Python client: https://github.com/zytedata/zyte-autoextract\n",
    "\n",
    "But if you want to very quickly try out the API using the raw API, you can do so using the example below"
   ]
  },
  {
   "cell_type": "code",
   "execution_count": null,
   "metadata": {},
   "outputs": [],
   "source": [
    "pagetype = 'product'\n",
    "url = 'http://books.toscrape.com/catalogue/a-light-in-the-attic_1000/index.html'\n",
    "\n",
    "from autoextract.sync import request_raw\n",
    "query = [{'url': url, 'pageType': pagetype}]\n",
    "results = request_raw(query)\n",
    "results"
   ]
  },
  {
   "cell_type": "code",
   "execution_count": null,
   "metadata": {},
   "outputs": [],
   "source": [
    "items = [x['product'] for x in results]\n",
    "items"
   ]
  },
  {
   "cell_type": "code",
   "execution_count": null,
   "metadata": {},
   "outputs": [],
   "source": [
    "import pandas as pd\n",
    "df = pd.DataFrame(items)\n",
    "df"
   ]
  },
  {
   "cell_type": "code",
   "execution_count": null,
   "metadata": {},
   "outputs": [],
   "source": [
    "item = df.head(1)\n",
    "\n",
    "output = f\"\"\"\n",
    "<b>{item.name[0]}</b><br>\n",
    "{item.description[0]}\n",
    "<img src=\"{item.mainImage[0]}\"/>\n",
    "\"\"\"\n",
    "\n",
    "from IPython.core.display import display, HTML\n",
    "display(HTML(output))"
   ]
  },
  {
   "cell_type": "code",
   "execution_count": null,
   "metadata": {},
   "outputs": [],
   "source": []
  }
 ],
 "metadata": {
  "kernelspec": {
   "display_name": "Python 3",
   "language": "python",
   "name": "python3"
  },
  "language_info": {
   "codemirror_mode": {
    "name": "ipython",
    "version": 3
   },
   "file_extension": ".py",
   "mimetype": "text/x-python",
   "name": "python",
   "nbconvert_exporter": "python",
   "pygments_lexer": "ipython3",
   "version": "3.8.8"
  }
 },
 "nbformat": 4,
 "nbformat_minor": 4
}
